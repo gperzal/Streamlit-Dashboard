{
  "cells": [
    {
      "cell_type": "markdown",
      "metadata": {},
      "source": [
        "# Tarea: Análisis Visual de Ventas de Tienda de Conveniencia\n",
        "\n",
        "### **Equipo:** [Inserte nombres de los integrantes]\n",
        "### **Grupo:** [Inserte número de grupo]\n",
        "### **Curso:** Visualización de Datos en Python"
      ]
    },
    {
      "cell_type": "markdown",
      "metadata": {},
      "source": [
        "## Descripción del Caso\n",
        "\n",
        "Una cadena de tiendas de conveniencia quiere analizar sus ventas y el comportamiento de los clientes para mejorar su estrategia de marketing. Para ello, han recopilado un conjunto de datos que incluye información sobre las ventas, los productos y los clientes. Su misión será usar las técnicas de visualización de datos aprendidas para analizar y presentar los resultados de este conjunto de datos."
      ]
    },
    {
      "cell_type": "markdown",
      "metadata": {},
      "source": [
        "## Indicaciones Generales\n",
        "\n",
        "1.  **Dataset:** Utilizarán el dataset \"Supermarket Sales\" disponible en Kaggle (data.csv).\n",
        "2.  **Entorno:** Trabajen según las indicaciones de este notebook.\n",
        "3.  **Colaboración:** Esta es una tarea grupal. Asegúrense de coordinar el trabajo.\n",
        "4.  **Streamlit:** Se requiere crear un dashboard interactivo usando la librería Streamlit. Deberán escribir y ejecutar su código como script the python (archivo .py), pero deben también escribir el código en una celda dentro de éste jupyter notebook para su revisión.\n",
        "5.  **Pensamiento Crítico:** Incluyan reflexiones y justificaciones para sus elecciones de visualización y análisis.\n",
        "6.  **Entrega:** Entreguen este notebook completado según las indicaciones."
      ]
    },
    {
      "cell_type": "markdown",
      "metadata": {},
      "source": [
        "## 1. Selección de Variables y desarrollo de Análisis\n",
        "\n",
        "\n",
        "a.  Examinen el conjunto de datos proporcionado (`df.info()`, `df.describe()`, `df.columns`).\n",
        "\n",
        "b.  Identifiquen y **justifiquen** las variables que consideren más relevantes para un análisis significativo del comportamiento de ventas y clientes. \n",
        "\n",
        "c.  Reflexionen sobre la importancia de cada variable seleccionada en el contexto del caso de estudio (¿Qué preguntas de negocio pueden ayudar a responder?)."
      ]
    },
    {
      "cell_type": "markdown",
      "metadata": {},
      "source": [
        "## Análisis Requeridos:\n",
        "\n",
        "1.  **Evolución de las Ventas Totales:**\n",
        "    *   **Objetivo:** Mostrar cómo han variado las ventas totales (`Total`) a lo largo del tiempo (`Date`).\n",
        "\n",
        "2.  **Ingresos por Línea de Producto:**\n",
        "    *   **Objetivo:** Comparar los ingresos (`Total`) generados por cada `Product line`.\n",
        "\n",
        "3.  **Distribución de la Calificación de Clientes:**\n",
        "    *   **Objetivo:** Analizar la distribución de las calificaciones (`Rating`) de los clientes.\n",
        "\n",
        "4.  **Comparación del Gasto por Tipo de Cliente:**\n",
        "    *   **Objetivo:** Comparar la distribución del gasto total (`Total`) entre clientes `Member` y `Normal`.\n",
        "\n",
        "5.  **Relación entre Costo y Ganancia Bruta:**\n",
        "    *   **Objetivo:** Visualizar la relación entre el costo de bienes vendidos (`cogs`) y el ingreso bruto (`gross income`).\n",
        "\n",
        "6.  **Métodos de Pago Preferidos:**\n",
        "    *   **Objetivo:** Identificar los métodos de pago (`Payment`) más frecuentes.\n",
        "\n",
        "7.  **Análisis de Correlación Numérica:**\n",
        "    *   **Objetivo:** Explorar relaciones lineales entre variables numéricas (`Unit price`, `Quantity`, `Tax 5%`, `Total`, `cogs`, `gross income`, `Rating`).\n",
        "\n",
        "8.  **Composición del Ingreso Bruto por Sucursal y Línea de Producto:**\n",
        "    *   **Objetivo:** Mostrar la contribución de cada `Product line` al `gross income` dentro de cada `Branch`.\n",
        "\n",
        "---\n",
        "\n",
        "## Requisitos Adicionales:\n",
        "*   Implementación en Streamlit.\n",
        "*   Gráficos claros (títulos, etiquetas).\n",
        "*   Interactividad (filtros) donde sea apropiado.\n",
        "*   Aplicación de buenas prácticas de visualización (claridad)."
      ]
    },
    {
      "cell_type": "markdown",
      "metadata": {},
      "source": [
        "## 2. Integración en un Dashboard (Streamlit)\n",
        "\n",
        "a.  Utilizando Streamlit, integren **algunas** de sus visualizaciones y hallazgos clave en un dashboard interactivo.\n",
        "\n",
        "b.  Asegúrense de que el dashboard sea intuitivo y bien organizado (usen títulos, texto explicativo, widgets interactivos como sliders o selectores para filtrar datos).\n",
        "\n",
        "c.  Reflexionen sobre cómo la interactividad del dashboard mejora la experiencia del usuario y el proceso de toma de decisiones basado en los datos presentados.\n",
        "\n",
        "**Instrucciones:**\n",
        "1.  Escriban el código completo de su aplicación Streamlit en la celda de código de abajo.\n",
        "2.  Copien ese código a un archivo de texto simple llamado `dashboard_tarea.py` (o el nombre que prefieran).\n",
        "3.  Abran una terminal o Anaconda Prompt, naveguen a la carpeta donde guardaron el archivo.\n",
        "4.  Ejecuten el comando: `streamlit run dashboard_tarea.py`\n",
        "5.  Interactúen con su dashboard en el navegador.\n",
        "6.  **Importante:** En la celda de Markdown siguiente, describan su dashboard, qué visualizaciones incluye, qué interacciones permite, y adjunten el código de su script de python."
      ]
    },
    {
      "cell_type": "code",
      "execution_count": null,
      "metadata": {
        "lc-needs-sanitizing": false
      },
      "outputs": [],
      "source": [
        "# --- Describan su Dashboard (Gráficos Utilizados y Justificación de su uso) --- \n",
        "\n",
        "''' \n",
        "🧠 Reflexión: Cómo la Interactividad del Dashboard Mejora la Experiencia del Usuario y la Toma de Decisiones\n",
        "La interactividad es el eje central que transforma este dashboard en una herramienta de análisis avanzada y accesible para usuarios no técnicos. Gracias a la implementación de filtros dinámicos por fecha, sucursal y categoría, los usuarios pueden adaptar la visualización a sus necesidades específicas, explorando diferentes escenarios y segmentos de mercado en tiempo real.\n",
        "\n",
        "Cada gráfico responde de forma inmediata a los cambios aplicados en el sidebar, lo que permite observar patrones, detectar anomalías y comparar rendimientos sin necesidad de conocimientos en programación o análisis de datos. Esta flexibilidad agiliza la toma de decisiones, ya que elimina la necesidad de informes estáticos y ofrece insights accionables en segundos, según los criterios de negocio que más interesen en el momento.\n",
        "\n",
        "Además, el uso de pestañas organizadas por tipo de análisis (básico, compuesto, multivariado, ejecutivo) guía al usuario en un flujo lógico que va desde la exploración simple hasta la visualización avanzada y el diagnóstico automático, asegurando una experiencia comprensible, profesional y estratégica.\n",
        "\n",
        "📊 Descripción del Dashboard: Gráficos Utilizados y Justificación\n",
        "El dashboard se estructura en seis páginas temáticas que responden a los objetivos del caso de estudio, integrando diversos tipos de visualizaciones, cada una con su propósito específico:\n",
        "\n",
        "📌 Variables Clave: Visualizaciones tipo tabla y métricas KPI permiten una primera aproximación a la estructura de los datos. Justificamos la selección de columnas relevantes como Total, Branch, Category, Date, entre otras, por su impacto directo en el análisis de ventas.\n",
        "\n",
        "📊 Gráficos Básicos: Histogramas, boxplots y diagramas de dispersión ofrecen una visión inicial sobre la distribución de las ventas, la variabilidad por género, y la relación entre cantidad y monto vendido. Estos gráficos son fundamentales para identificar outliers, asimetrías y correlaciones simples.\n",
        "\n",
        "📈 Gráficos Compuestos: Se utilizan líneas de tiempo, mapas de calor y barras comparativas para analizar tendencias por categoría y rendimiento por sucursal. Estas visualizaciones permiten contrastar variables múltiples y detectar combinaciones de alto o bajo desempeño.\n",
        "\n",
        "🧬 Análisis Multivariado: Técnicas como PCA (Análisis de Componentes Principales) en 2D y 3D, scree plot, matrices de correlación y clustering con KMeans aportan profundidad al análisis, permitiendo descubrir patrones complejos, agrupar comportamientos similares y reducir la dimensionalidad sin perder información clave.\n",
        "\n",
        "📊 Análisis Complementarios: Se incorpora el análisis de variables cualitativas como Rating y Payment, junto con gráficos de composición (sunburst) para entender el impacto cruzado entre tiendas y líneas de producto. Esto ayuda a comprender mejor la experiencia del cliente y sus preferencias.\n",
        "\n",
        "📋 Resumen Ejecutivo: Esta sección sintetiza todo lo anterior con indicadores clave, rankings automáticos y recomendaciones accionables generadas directamente desde los datos. Está orientada 100% a la toma de decisiones gerenciales.\n",
        "\n",
        "'''"
      ]
    },
    {
      "cell_type": "code",
      "execution_count": null,
      "id": "7cfbdf36",
      "metadata": {},
      "outputs": [],
      "source": [
        "# --- CÓDIGO PARA dashboard_tarea_grupo_X.py --- \n",
        "# (Este bloque NO se ejecuta directamente en Jupyter)\n",
        "\n",
        "''' PEGAR A CONTINUACIÓN EL CÓDIGO DEL DASHBOARD '''"
      ]
    },
    {
      "cell_type": "markdown",
      "metadata": {},
      "source": [
        "# 3. Deployment\n",
        "\n",
        "a.  Desplieguen su dashboard en Streamlit Cloud.\n",
        "\n",
        "b.  Asegúrense de que el dashboard sea accesible públicamente.\n",
        "\n",
        "c.  Proporcionen el enlace al dashboard desplegado en la celda de Markdown siguiente.\n",
        "\n",
        "d.  Reflexionen sobre el proceso de despliegue y cualquier desafío que hayan enfrentado.\n"
      ]
    },
    {
      "cell_type": "markdown",
      "id": "9d828784",
      "metadata": {},
      "source": [
        "En el caso que no hayan podido deployar:"
      ]
    },
    {
      "cell_type": "code",
      "execution_count": null,
      "id": "364663fb",
      "metadata": {},
      "outputs": [],
      "source": [
        "'''\n",
        "Comentar si hubo problemas con el código o si no se ejecutó correctamente que les impidieron realizar el análisis completo y el deployment del dashboard.\n",
        "'''"
      ]
    },
    {
      "cell_type": "markdown",
      "id": "083cd8f3",
      "metadata": {},
      "source": [
        "En el caso que hayan podido deployar:"
      ]
    },
    {
      "cell_type": "code",
      "execution_count": null,
      "id": "5584ebd3",
      "metadata": {},
      "outputs": [],
      "source": [
        "'''\n",
        "Poner aquí la url de su dashboard en el servidor de Streamlit.\n",
        "Ejemplo: https://share.streamlit.io/streamlit/demo-uber-nyc-pickups\n",
        "'''"
      ]
    },
    {
      "cell_type": "markdown",
      "metadata": {},
      "source": [
        "# 4. Conclusiones Generales\n",
        "\n",
        "Reflexionen sobre el proceso de análisis y visualización. ¿Qué aprendieron sobre los datos de la tienda? ¿Qué limitaciones encontraron en los datos o en las técnicas de visualización? ¿Qué recomendaciones (basadas en los datos) podrían darle a la cadena de tiendas?"
      ]
    },
    {
      "cell_type": "code",
      "execution_count": null,
      "id": "a7a03bf9",
      "metadata": {},
      "outputs": [],
      "source": [
        "'''\n",
        "🧩 Conclusiones Generales\n",
        "A lo largo del proceso de análisis y visualización, pudimos transformar un conjunto de datos tabular en un sistema interactivo y visual que permite comprender el comportamiento de ventas, clientes y tiendas con gran profundidad. El uso de técnicas básicas y avanzadas de visualización, apoyadas por interactividad mediante Streamlit, permitió que cualquier usuario –incluso sin formación técnica– pueda navegar, interpretar y tomar decisiones informadas con rapidez y claridad.\n",
        "\n",
        "🔍 Lo que aprendimos del análisis:\n",
        "La sucursal más rentable y con mejor ticket promedio se mantiene consistentemente a lo largo del tiempo, lo que sugiere buenas prácticas operativas que podrían replicarse en otras tiendas.\n",
        "\n",
        "Algunas categorías de producto concentran más del 50% de las ventas, lo que genera una dependencia comercial riesgosa.\n",
        "\n",
        "Existe una fuerte relación lineal entre el costo de los productos (cogs) y la ganancia bruta (gross income), lo que valida la eficiencia del modelo de margen.\n",
        "\n",
        "Las calificaciones de los clientes (Rating) se mantienen altas en general, lo que indica una percepción positiva, pero es necesario seguir monitoreándolas por sucursal.\n",
        "\n",
        "Los métodos de pago varían levemente entre tiendas, y algunos menos usados podrían eliminarse o rediseñarse.\n",
        "\n",
        "⚠️ Limitaciones encontradas:\n",
        "El dataset no incluye información temporal completa como semanas, horas o días de la semana, lo que limita los análisis de comportamiento diario o por franja horaria.\n",
        "\n",
        "No existen identificadores de cliente únicos, lo que impide analizar recurrencia o fidelización.\n",
        "\n",
        "Algunas columnas como Customer type tienen una segmentación muy básica (Normal / Member), por lo que su valor analítico es limitado sin mayor detalle.\n",
        "\n",
        "✅ Recomendaciones estratégicas para la cadena de tiendas:\n",
        "Diversificar la oferta de productos, especialmente en aquellas tiendas donde una sola categoría domina las ventas.\n",
        "\n",
        "Revisar y replicar las buenas prácticas operativas de la sucursal más rentable en otras tiendas.\n",
        "\n",
        "Implementar segmentación avanzada de clientes, usando identificadores únicos para conocer patrones de fidelización y frecuencia de compra.\n",
        "\n",
        "Fortalecer el monitoreo de Rating por tienda, y asociarlo con acciones de mejora continua en servicio.\n",
        "\n",
        "Revisar el mix de métodos de pago para centrarse en los más usados y reducir costos operacionales.\n",
        "\n",
        "\n",
        "'''"
      ]
    },
    {
      "cell_type": "markdown",
      "metadata": {},
      "source": [
        "# 5. Referencias\n",
        "\n",
        "Listar las fuentes utilizadas (dataset, bibliotecas principales, material de referencia adicional si aplica)."
      ]
    },
    {
      "cell_type": "code",
      "execution_count": null,
      "id": "2cf3b500",
      "metadata": {},
      "outputs": [],
      "source": [
        "'''\n",
        "Escriban aquí las referencias.\n",
        "'''"
      ]
    },
    {
      "cell_type": "markdown",
      "id": "20682a90",
      "metadata": {},
      "source": [
        "## NOTA FINAL:\n",
        "### Asegúrense de sólo subir el jupyter notebook a la plataforma, con un formato del tipo: \"Trabajo_Grupo_X.ipynb\".\n",
        "### No es necesario incluir el archivo .py del dashboard, pero sí el código dentro de este cuaderno en el apartado correspondiente."
      ]
    },
    {
      "cell_type": "markdown",
      "id": "5a19ce43",
      "metadata": {},
      "source": []
    }
  ],
  "metadata": {
    "kernelspec": {
      "display_name": "Python 3 (ipykernel)",
      "language": "python",
      "name": "python3"
    },
    "language_info": {
      "codemirror_mode": {
        "name": "ipython",
        "version": 3
      },
      "file_extension": ".py",
      "mimetype": "text/x-python",
      "name": "python",
      "nbconvert_exporter": "python",
      "pygments_lexer": "ipython3",
      "version": "3.9.12"
    }
  },
  "nbformat": 4,
  "nbformat_minor": 5
}
